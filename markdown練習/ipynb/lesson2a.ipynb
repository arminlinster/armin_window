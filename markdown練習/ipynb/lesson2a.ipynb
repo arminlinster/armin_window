{
 "cells": [
  {
   "cell_type": "code",
   "execution_count": 1,
   "metadata": {},
   "outputs": [
    {
     "name": "stdout",
     "output_type": "stream",
     "text": [
      "<class '__main__.Person'>\n",
      "p1.name=徐國堂\n",
      "p2.name=Robert Hsu\n"
     ]
    }
   ],
   "source": [
    "class Person():\n",
    "    def __init__(self,n:str):\n",
    "        self.name = n\n",
    "\n",
    "    def __repr__(self):\n",
    "        return f\"我是Person的實體,我的名字是:{self.name}\"\n",
    "\n",
    "\n",
    "p1:Person = Person(\"徐國堂\")\n",
    "print(type(p1))\n",
    "print(f\"p1.name={p1.name}\")\n",
    "\n",
    "p2:Person = Person(\"Robert Hsu\")\n",
    "p2.name\n",
    "print(f\"p2.name={p2.name}\")"
   ]
  },
  {
   "cell_type": "code",
   "execution_count": 2,
   "metadata": {},
   "outputs": [
    {
     "name": "stdout",
     "output_type": "stream",
     "text": [
      "徐國堂\n",
      "270\n",
      "Robert Hsu\n",
      "250\n"
     ]
    }
   ],
   "source": [
    "class Student(Person):\n",
    "    def __init__(self,name:str,s:int):\n",
    "        super().__init__(n=name)\n",
    "        self.scores = s\n",
    "\n",
    "    def __repr__(self):\n",
    "        return f\"我是Student的實體,我的名字是:{self.name},我的分數是:{self.scores}\"\n",
    "\n",
    "s1:Student = Student(name=\"徐國堂\",s=270)\n",
    "print(s1.name)\n",
    "print(s1.scores)\n",
    "\n",
    "s2:Student = Student(name=\"Robert Hsu\",s=250)\n",
    "print(s2.name)\n",
    "print(s2.scores)"
   ]
  },
  {
   "cell_type": "code",
   "execution_count": 3,
   "metadata": {},
   "outputs": [
    {
     "name": "stdout",
     "output_type": "stream",
     "text": [
      "我是Person的實體,我的名字是:徐國堂\n",
      "我是Student的實體,我的名字是:徐國堂,我的分數是:270\n",
      "我是Person的實體,我的名字是:Robert Hsu\n",
      "我是Student的實體,我的名字是:Robert Hsu,我的分數是:250\n"
     ]
    }
   ],
   "source": [
    "print(p1)\n",
    "print(s1)\n",
    "\n",
    "print(p2)\n",
    "print(s2)"
   ]
  }
 ],
 "metadata": {
  "kernelspec": {
   "display_name": "venv1",
   "language": "python",
   "name": "python3"
  },
  "language_info": {
   "codemirror_mode": {
    "name": "ipython",
    "version": 3
   },
   "file_extension": ".py",
   "mimetype": "text/x-python",
   "name": "python",
   "nbconvert_exporter": "python",
   "pygments_lexer": "ipython3",
   "version": "3.11.9"
  }
 },
 "nbformat": 4,
 "nbformat_minor": 2
}
