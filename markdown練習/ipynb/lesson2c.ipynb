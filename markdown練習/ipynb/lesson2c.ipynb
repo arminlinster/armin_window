{
 "cells": [
  {
   "cell_type": "code",
   "execution_count": 1,
   "metadata": {},
   "outputs": [
    {
     "name": "stdout",
     "output_type": "stream",
     "text": [
      "<class '__main__.Person'>\n",
      "p1.name=徐國堂\n",
      "p2.name=Robert Hsu\n"
     ]
    }
   ],
   "source": [
    "class Person():\n",
    "    def __init__(self,n:str):\n",
    "        self.name = n\n",
    "\n",
    "    def __repr__(self):\n",
    "        return f\"我是Person的實體,我的名字是:{self.name}\"\n",
    "\n",
    "\n",
    "p1:Person = Person(\"徐國堂\")\n",
    "print(type(p1))\n",
    "print(f\"p1.name={p1.name}\")\n",
    "\n",
    "p2:Person = Person(\"Robert Hsu\")\n",
    "p2.name\n",
    "print(f\"p2.name={p2.name}\")"
   ]
  },
  {
   "cell_type": "code",
   "execution_count": 2,
   "metadata": {},
   "outputs": [
    {
     "name": "stdout",
     "output_type": "stream",
     "text": [
      "徐國堂\n",
      "Robert Hsu\n"
     ]
    }
   ],
   "source": [
    "class Student(Person):\n",
    "    def __init__(self,name:str,chinese:int,english:int,math:int):\n",
    "        super().__init__(n=name)\n",
    "        self.__chinese = chinese\n",
    "        self.__english = english\n",
    "        self.__math = math\n",
    "\n",
    "    @property\n",
    "    def chinese(self):\n",
    "        return self.__chinese\n",
    "\n",
    "    @property\n",
    "    def english(self):\n",
    "        return self.__english\n",
    "\n",
    "    @property\n",
    "    def math(self):\n",
    "        return self.__math\n",
    "\n",
    "    def __repr__(self):\n",
    "        message = f\"我是Student的實體,我的名字是:{self.name}\\n\"\n",
    "        message += f\"國文分數:{self.chinese}\\n\"\n",
    "        message += f\"英文分數:{self.english}\\n\"\n",
    "        message += f\"數學分數:{self.math}\\n\"\n",
    "        return message\n",
    "\n",
    "s1:Student = Student(name=\"徐國堂\",chinese=68,english=62,math=67)\n",
    "print(s1.name)\n",
    "\n",
    "\n",
    "s2:Student = Student(name=\"Robert Hsu\",math=65,english=92,chinese=84)\n",
    "print(s2.name)"
   ]
  },
  {
   "cell_type": "code",
   "execution_count": 3,
   "metadata": {},
   "outputs": [
    {
     "name": "stdout",
     "output_type": "stream",
     "text": [
      "我是Person的實體,我的名字是:徐國堂\n",
      "我是Student的實體,我的名字是:徐國堂\n",
      "國文分數:68\n",
      "英文分數:62\n",
      "數學分數:67\n",
      "\n",
      "我是Person的實體,我的名字是:Robert Hsu\n",
      "我是Student的實體,我的名字是:Robert Hsu\n",
      "國文分數:84\n",
      "英文分數:92\n",
      "數學分數:65\n",
      "\n"
     ]
    }
   ],
   "source": [
    "print(p1)\n",
    "print(s1)\n",
    "\n",
    "print(p2)\n",
    "print(s2)"
   ]
  },
  {
   "cell_type": "code",
   "execution_count": 4,
   "metadata": {},
   "outputs": [
    {
     "data": {
      "text/plain": [
       "我是Student的實體,我的名字是:徐國堂\n",
       "國文分數:68\n",
       "英文分數:62\n",
       "數學分數:67"
      ]
     },
     "execution_count": 4,
     "metadata": {},
     "output_type": "execute_result"
    }
   ],
   "source": [
    "s1\n"
   ]
  },
  {
   "cell_type": "code",
   "execution_count": 5,
   "metadata": {},
   "outputs": [
    {
     "ename": "AttributeError",
     "evalue": "property 'chinese' of 'Student' object has no setter",
     "output_type": "error",
     "traceback": [
      "\u001b[1;31m---------------------------------------------------------------------------\u001b[0m",
      "\u001b[1;31mAttributeError\u001b[0m                            Traceback (most recent call last)",
      "Cell \u001b[1;32mIn[5], line 1\u001b[0m\n\u001b[1;32m----> 1\u001b[0m \u001b[43ms1\u001b[49m\u001b[38;5;241;43m.\u001b[39;49m\u001b[43mchinese\u001b[49m \u001b[38;5;241m=\u001b[39m \u001b[38;5;241m0\u001b[39m\n\u001b[0;32m      2\u001b[0m s1\u001b[38;5;241m.\u001b[39menglish \u001b[38;5;241m=\u001b[39m \u001b[38;5;241m0\u001b[39m\n\u001b[0;32m      3\u001b[0m s1\u001b[38;5;241m.\u001b[39mmath \u001b[38;5;241m=\u001b[39m \u001b[38;5;241m0\u001b[39m\n",
      "\u001b[1;31mAttributeError\u001b[0m: property 'chinese' of 'Student' object has no setter"
     ]
    }
   ],
   "source": [
    "s1.chinese = 0\n",
    "s1.english = 0\n",
    "s1.math = 0\n",
    "s1"
   ]
  },
  {
   "cell_type": "code",
   "execution_count": 6,
   "metadata": {},
   "outputs": [
    {
     "data": {
      "text/plain": [
       "我是Student的實體,我的名字是:Robert Hsu\n",
       "國文分數:84\n",
       "英文分數:92\n",
       "數學分數:65"
      ]
     },
     "execution_count": 6,
     "metadata": {},
     "output_type": "execute_result"
    }
   ],
   "source": [
    "s2"
   ]
  },
  {
   "cell_type": "code",
   "execution_count": 7,
   "metadata": {},
   "outputs": [
    {
     "data": {
      "text/plain": [
       "我是Student的實體,我的名字是:徐國堂\n",
       "國文分數:68\n",
       "英文分數:62\n",
       "數學分數:67"
      ]
     },
     "execution_count": 7,
     "metadata": {},
     "output_type": "execute_result"
    }
   ],
   "source": [
    "s1"
   ]
  }
 ],
 "metadata": {
  "kernelspec": {
   "display_name": "venv1",
   "language": "python",
   "name": "python3"
  },
  "language_info": {
   "codemirror_mode": {
    "name": "ipython",
    "version": 3
   },
   "file_extension": ".py",
   "mimetype": "text/x-python",
   "name": "python",
   "nbconvert_exporter": "python",
   "pygments_lexer": "ipython3",
   "version": "3.11.9"
  }
 },
 "nbformat": 4,
 "nbformat_minor": 2
}
