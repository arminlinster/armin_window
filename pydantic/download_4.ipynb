{
 "cells": [
  {
   "cell_type": "code",
   "execution_count": 2,
   "metadata": {},
   "outputs": [
    {
     "name": "stdout",
     "output_type": "stream",
     "text": [
      "下載成功\n"
     ]
    }
   ],
   "source": [
    "import requests\n",
    "from requests import Response\n",
    "\n",
    "aqi_url = 'https://data.moenv.gov.tw/api/v2/aqx_p_488?api_key=e8dd42e6-9b8b-43f8-991e-b3dee723a52d&limit=1000&sort=datacreationdate desc&format=JSON'\n",
    "try:\n",
    "    res:Response = requests.request(\"GET\",aqi_url)\n",
    "except Exception as e:\n",
    "    print(e)\n",
    "    \n",
    "if res.ok:\n",
    "    print(\"下載成功\")    \n",
    "else:\n",
    "    print(\"下載失敗\")"
   ]
  },
  {
   "cell_type": "code",
   "execution_count": 5,
   "metadata": {},
   "outputs": [
    {
     "name": "stdout",
     "output_type": "stream",
     "text": [
      "sitename='大同' county='臺北市' aqi=38 status='良好' pm25=12.0 co=0.56\n",
      "sitename='松山' county='臺北市' aqi=41 status='良好' pm25=13.0 co=0.35\n",
      "sitename='古亭' county='臺北市' aqi=26 status='良好' pm25=11.0 co=0.31\n",
      "sitename='萬華' county='臺北市' aqi=28 status='良好' pm25=10.0 co=0.27\n",
      "sitename='中山' county='臺北市' aqi=26 status='良好' pm25=9.0 co=0.3\n",
      "sitename='士林' county='臺北市' aqi=41 status='良好' pm25=12.0 co=0.31\n",
      "sitename='陽明' county='臺北市' aqi=28 status='良好' pm25=4.0 co=0.13\n"
     ]
    }
   ],
   "source": [
    "from pydantic import BaseModel,Field,ValidationError,field_validator\n",
    "\n",
    "class Site(BaseModel):\n",
    "    sitename:str\n",
    "    county:str\n",
    "    aqi:int\n",
    "    status:str\n",
    "    pm25:float = Field(alias=\"pm2.5\")\n",
    "    co:float\n",
    "\n",
    "    @field_validator('pm25','co',mode='before')\n",
    "    @classmethod\n",
    "    def empty_to_zero(cls,value:str)->str:\n",
    "        if value == '':\n",
    "            return '0.0'\n",
    "        else:\n",
    "            return value\n",
    "\n",
    "class AQI(BaseModel):\n",
    "    records:list[Site]\n",
    "try:\n",
    "    data:AQI = AQI.model_validate_json(res.text)\n",
    "except ValidationError as e:\n",
    "    print(e)\n",
    "except Exception as e:\n",
    "    print(f\"不知名的錯誤:{e}\")\n",
    "else:\n",
    "    records:list[Site] = data.records\n",
    "    for record in records[-100:-1]:\n",
    "        if record.county =='臺北市':\n",
    "            print(record)"
   ]
  }
 ],
 "metadata": {
  "kernelspec": {
   "display_name": "python311env",
   "language": "python",
   "name": "python3"
  },
  "language_info": {
   "codemirror_mode": {
    "name": "ipython",
    "version": 3
   },
   "file_extension": ".py",
   "mimetype": "text/x-python",
   "name": "python",
   "nbconvert_exporter": "python",
   "pygments_lexer": "ipython3",
   "version": "3.11.8"
  }
 },
 "nbformat": 4,
 "nbformat_minor": 2
}
