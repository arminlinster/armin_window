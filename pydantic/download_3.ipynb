{
 "cells": [
  {
   "cell_type": "code",
   "execution_count": 3,
   "metadata": {},
   "outputs": [
    {
     "name": "stdout",
     "output_type": "stream",
     "text": [
      "download OK!\n"
     ]
    }
   ],
   "source": [
    "import requests\n",
    "from requests import Response\n",
    "\n",
    "aqi_url =\"https://data.moenv.gov.tw/api/v2/aqx_p_488?api_key=e8dd42e6-9b8b-43f8-991e-b3dee723a52d&limit=1000&sort=datacreationdate desc&format=JSON\"\n",
    "\n",
    "try:\n",
    "    res:Response = requests.request(\"GET\", aqi_url)\n",
    "except Exception as e:\n",
    "    print(e)\n",
    "    \n",
    "if res.ok:\n",
    "    print(\"download OK!\")\n",
    "    \n",
    "else:\n",
    "    print(\"download not OK\")"
   ]
  },
  {
   "cell_type": "code",
   "execution_count": 4,
   "metadata": {},
   "outputs": [
    {
     "ename": "ValidationError",
     "evalue": "1 validation error for AQI\n  Invalid JSON: expected value at line 1 column 1 [type=json_invalid, input_value='由本平臺呼叫環境...升資料索取權限', input_type=str]\n    For further information visit https://errors.pydantic.dev/2.7/v/json_invalid",
     "output_type": "error",
     "traceback": [
      "\u001b[1;31m---------------------------------------------------------------------------\u001b[0m",
      "\u001b[1;31mValidationError\u001b[0m                           Traceback (most recent call last)",
      "Cell \u001b[1;32mIn[4], line 10\u001b[0m\n\u001b[0;32m      8\u001b[0m \u001b[38;5;28;01mclass\u001b[39;00m \u001b[38;5;21;01mAQI\u001b[39;00m(BaseModel):\n\u001b[0;32m      9\u001b[0m     records:\u001b[38;5;28mlist\u001b[39m[Site]\n\u001b[1;32m---> 10\u001b[0m data:AQI \u001b[38;5;241m=\u001b[39m AQI\u001b[38;5;241m.\u001b[39mmodel_validate_json(res\u001b[38;5;241m.\u001b[39mtext)\n\u001b[0;32m     11\u001b[0m records:\u001b[38;5;28mlist\u001b[39m[Site] \u001b[38;5;241m=\u001b[39m data\u001b[38;5;241m.\u001b[39mrecords\n\u001b[0;32m     12\u001b[0m \u001b[38;5;28;01mfor\u001b[39;00m record \u001b[38;5;129;01min\u001b[39;00m records[\u001b[38;5;241m-\u001b[39m\u001b[38;5;241m100\u001b[39m:\u001b[38;5;241m-\u001b[39m\u001b[38;5;241m1\u001b[39m]:\n",
      "File \u001b[1;32mc:\\Users\\user\\.conda\\envs\\python311env\\Lib\\site-packages\\pydantic\\main.py:580\u001b[0m, in \u001b[0;36mBaseModel.model_validate_json\u001b[1;34m(cls, json_data, strict, context)\u001b[0m\n\u001b[0;32m    578\u001b[0m \u001b[38;5;66;03m# `__tracebackhide__` tells pytest and some other tools to omit this function from tracebacks\u001b[39;00m\n\u001b[0;32m    579\u001b[0m __tracebackhide__ \u001b[38;5;241m=\u001b[39m \u001b[38;5;28;01mTrue\u001b[39;00m\n\u001b[1;32m--> 580\u001b[0m \u001b[38;5;28;01mreturn\u001b[39;00m \u001b[38;5;28mcls\u001b[39m\u001b[38;5;241m.\u001b[39m__pydantic_validator__\u001b[38;5;241m.\u001b[39mvalidate_json(json_data, strict\u001b[38;5;241m=\u001b[39mstrict, context\u001b[38;5;241m=\u001b[39mcontext)\n",
      "\u001b[1;31mValidationError\u001b[0m: 1 validation error for AQI\n  Invalid JSON: expected value at line 1 column 1 [type=json_invalid, input_value='由本平臺呼叫環境...升資料索取權限', input_type=str]\n    For further information visit https://errors.pydantic.dev/2.7/v/json_invalid"
     ]
    }
   ],
   "source": [
    "from pydantic import BaseModel,Field, ValidationError\n",
    "\n",
    "class Site(BaseModel):\n",
    "    sitename:str\n",
    "    county:str\n",
    "    aqi:int\n",
    "    status:str\n",
    "class AQI(BaseModel):\n",
    "    records:list[Site]\n",
    "try:\n",
    "    data:AQI = AQI.model_validate_json(res.text)\n",
    "except Exception as e:\n",
    "    print(e)\n",
    "    \n",
    "records:list[Site] = data.records\n",
    "for record in records[-100:-1]:\n",
    "    if record.county =='臺北市':\n",
    "        print(record)"
   ]
  }
 ],
 "metadata": {
  "kernelspec": {
   "display_name": "python311env",
   "language": "python",
   "name": "python3"
  },
  "language_info": {
   "codemirror_mode": {
    "name": "ipython",
    "version": 3
   },
   "file_extension": ".py",
   "mimetype": "text/x-python",
   "name": "python",
   "nbconvert_exporter": "python",
   "pygments_lexer": "ipython3",
   "version": "3.11.8"
  }
 },
 "nbformat": 4,
 "nbformat_minor": 2
}
