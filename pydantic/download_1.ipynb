{
 "cells": [
  {
   "cell_type": "code",
   "execution_count": 20,
   "metadata": {},
   "outputs": [
    {
     "name": "stdout",
     "output_type": "stream",
     "text": [
      "download OK!\n"
     ]
    }
   ],
   "source": [
    "import requests\n",
    "from requests import Response\n",
    "\n",
    "aqi_url =\"https://data.moenv.gov.tw/api/v2/aqx_p_488?api_key=e8dd42e6-9b8b-43f8-991e-b3dee723a52d&limit=1000&sort=datacreationdate desc&format=JSON\"\n",
    "res:Response = requests.request(\"GET\", aqi_url)\n",
    "if res.ok:\n",
    "    print(\"download OK!\")\n",
    "    \n",
    "else:\n",
    "    print(\"download not OK\")"
   ]
  },
  {
   "cell_type": "code",
   "execution_count": 31,
   "metadata": {},
   "outputs": [
    {
     "name": "stdout",
     "output_type": "stream",
     "text": [
      "<class 'str'>\n",
      "陽明 30 良好\n",
      "大同 55 普通\n",
      "松山 44 良好\n",
      "古亭 34 良好\n",
      "萬華 42 良好\n",
      "中山 37 良好\n",
      "士林 42 良好\n",
      "陽明 27 良好\n",
      "大同 55 普通\n",
      "松山 44 良好\n",
      "古亭 31 良好\n",
      "萬華 37 良好\n",
      "中山 38 良好\n",
      "士林 43 良好\n",
      "陽明 26 良好\n",
      "大同 48 良好\n",
      "松山 44 良好\n",
      "古亭 31 良好\n",
      "萬華 36 良好\n",
      "中山 30 良好\n",
      "士林 41 良好\n",
      "陽明 26 良好\n",
      "大同 39 良好\n",
      "松山 44 良好\n",
      "古亭 30 良好\n",
      "萬華 34 良好\n",
      "中山 28 良好\n",
      "士林 41 良好\n",
      "陽明 27 良好\n",
      "大同 37 良好\n",
      "松山 41 良好\n",
      "古亭 29 良好\n",
      "萬華 32 良好\n",
      "中山 27 良好\n",
      "士林 44 良好\n",
      "陽明 28 良好\n",
      "大同 38 良好\n",
      "松山 41 良好\n",
      "古亭 26 良好\n",
      "萬華 28 良好\n",
      "中山 26 良好\n",
      "士林 41 良好\n",
      "陽明 28 良好\n",
      "大同 38 良好\n",
      "松山 41 良好\n",
      "古亭 23 良好\n",
      "萬華 28 良好\n",
      "中山 26 良好\n",
      "士林 42 良好\n",
      "陽明 28 良好\n",
      "大同 39 良好\n",
      "松山 42 良好\n",
      "古亭 24 良好\n",
      "萬華 30 良好\n",
      "中山 29 良好\n",
      "士林 41 良好\n",
      "陽明 26 良好\n",
      "大同 38 良好\n",
      "松山 44 良好\n",
      "古亭 25 良好\n",
      "萬華 31 良好\n",
      "中山 31 良好\n",
      "士林 39 良好\n",
      "陽明 25 良好\n",
      "大同 40 良好\n",
      "松山 46 良好\n",
      "古亭 25 良好\n",
      "萬華 35 良好\n",
      "中山 34 良好\n",
      "士林 39 良好\n",
      "陽明 25 良好\n",
      "大同 37 良好\n",
      "松山 46 良好\n",
      "古亭 27 良好\n",
      "萬華 39 良好\n",
      "中山 33 良好\n",
      "士林 38 良好\n",
      "陽明 25 良好\n"
     ]
    }
   ],
   "source": [
    "#print(res.text)\n",
    "print(type(res.text))\n",
    "json_data:dict = res.json()\n",
    "sites:list = json_data['records']\n",
    "for site in sites:\n",
    "    #print(site)\n",
    "    if site['county'] == '臺北市':\n",
    "        print(site['sitename'],site['aqi'],site['status'])\n",
    "    "
   ]
  }
 ],
 "metadata": {
  "kernelspec": {
   "display_name": "python311env",
   "language": "python",
   "name": "python3"
  },
  "language_info": {
   "codemirror_mode": {
    "name": "ipython",
    "version": 3
   },
   "file_extension": ".py",
   "mimetype": "text/x-python",
   "name": "python",
   "nbconvert_exporter": "python",
   "pygments_lexer": "ipython3",
   "version": "3.11.8"
  }
 },
 "nbformat": 4,
 "nbformat_minor": 2
}
