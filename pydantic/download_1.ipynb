{
 "cells": [
  {
   "cell_type": "code",
   "execution_count": 20,
   "metadata": {},
   "outputs": [
    {
     "name": "stdout",
     "output_type": "stream",
     "text": [
      "download OK!\n"
     ]
    }
   ],
   "source": [
    "import requests\n",
    "from requests import Response\n",
    "\n",
    "aqi_url =\"https://data.moenv.gov.tw/api/v2/aqx_p_488?api_key=e8dd42e6-9b8b-43f8-991e-b3dee723a52d&limit=1000&sort=datacreationdate desc&format=JSON\"\n",
    "res:Response = requests.request(\"GET\", aqi_url)\n",
    "if res.ok:\n",
    "    print(\"download OK!\")\n",
    "    \n",
    "else:\n",
    "    print(\"download not OK\")"
   ]
  },
  {
   "cell_type": "code",
   "execution_count": 32,
   "metadata": {},
   "outputs": [
    {
     "name": "stdout",
     "output_type": "stream",
     "text": [
      "<class 'str'>\n",
      "大同 37 良好\n",
      "松山 46 良好\n",
      "古亭 27 良好\n",
      "萬華 39 良好\n",
      "中山 33 良好\n",
      "士林 38 良好\n",
      "陽明 25 良好\n"
     ]
    }
   ],
   "source": [
    "#print(res.text)\n",
    "print(type(res.text))\n",
    "json_data:dict = res.json()\n",
    "sites:list = json_data['records']\n",
    "for site in sites[-100:-1]:\n",
    "    #print(site)\n",
    "    if site['county']== '臺北市':\n",
    "        print(site['sitename'],site['aqi'],site['status'])\n",
    "    "
   ]
  }
 ],
 "metadata": {
  "kernelspec": {
   "display_name": "python311env",
   "language": "python",
   "name": "python3"
  },
  "language_info": {
   "codemirror_mode": {
    "name": "ipython",
    "version": 3
   },
   "file_extension": ".py",
   "mimetype": "text/x-python",
   "name": "python",
   "nbconvert_exporter": "python",
   "pygments_lexer": "ipython3",
   "version": "3.11.8"
  }
 },
 "nbformat": 4,
 "nbformat_minor": 2
}
