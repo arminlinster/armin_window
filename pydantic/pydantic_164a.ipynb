{
 "cells": [
  {
   "cell_type": "code",
   "execution_count": 14,
   "metadata": {},
   "outputs": [
    {
     "name": "stdout",
     "output_type": "stream",
     "text": [
      "{\n",
      "    \"name\": \"Alice\",\n",
      "    \"age\": 30,\n",
      "    \"address\": {\n",
      "        \"street\": \"123 Main St\",\n",
      "        \"city\": \"Springfield\",\n",
      "        \"zipcode\": \"12345\"\n",
      "    },\n",
      "    \"projects\": [\n",
      "        {\n",
      "            \"name\": \"Project A\",\n",
      "            \"status\": \"completed\"\n",
      "        },\n",
      "        {\n",
      "            \"name\": \"Project B\",\n",
      "            \"status\": \"ongoing\"\n",
      "        }\n",
      "    ]\n",
      "}\n"
     ]
    }
   ],
   "source": [
    "from pydantic import BaseModel,Field\n",
    "with open(\"data.json\", \"r\") as data:\n",
    "    data164 = data.read()\n",
    "print(data164)"
   ]
  },
  {
   "cell_type": "code",
   "execution_count": 15,
   "metadata": {},
   "outputs": [
    {
     "name": "stdout",
     "output_type": "stream",
     "text": [
      "{'name': 'Alice', 'age': 30, 'address': {'street': '123 Main St', 'city': 'Springfield', 'zipcode': 12345}, 'projects': [{'name': 'Project A', 'status': 'completed'}, {'name': 'Project B', 'status': 'ongoing'}]}\n"
     ]
    }
   ],
   "source": [
    "from pydantic import BaseModel\n",
    "\n",
    "class Dict164(BaseModel):\n",
    "    name:str\n",
    "    status:str\n",
    "\n",
    "class Projects(BaseModel):\n",
    "    projects:list[Dict164]\n",
    "\n",
    "class Address(BaseModel):\n",
    "    street:str\n",
    "    city:str\n",
    "    zipcode:int\n",
    "\n",
    "class Person(BaseModel):\n",
    "    name:str\n",
    "    age:int\n",
    "    address:Address\n",
    "    projects:list[Dict164]\n",
    "\n",
    "person:Person = Person.model_validate_json(data164)\n",
    "# 轉換成dict型別\n",
    "mydata = person.model_dump()\n",
    "print(mydata)"
   ]
  },
  {
   "cell_type": "code",
   "execution_count": 16,
   "metadata": {},
   "outputs": [
    {
     "name": "stdout",
     "output_type": "stream",
     "text": [
      "name='Alice' age=30 address=Address(street='123 Main St', city='Springfield', zipcode=12345) projects=[Dict164(name='Project A', status='completed'), Dict164(name='Project B', status='ongoing')]\n",
      "<class '__main__.Person'>\n",
      "<class 'dict'>\n",
      "{'name': 'Alice', 'age': 30, 'address': {'street': '123 Main St', 'city': 'Springfield', 'zipcode': 12345}, 'projects': [{'name': 'Project A', 'status': 'completed'}, {'name': 'Project B', 'status': 'ongoing'}]}\n"
     ]
    }
   ],
   "source": [
    "print(person)\n",
    "print(type(person))\n",
    "print(type(person.model_dump()))\n",
    "print(person.model_dump())"
   ]
  },
  {
   "cell_type": "code",
   "execution_count": 23,
   "metadata": {},
   "outputs": [],
   "source": [
    "def main():\n",
    "    for key, value in mydata.items():\n",
    "        # isinstance bool判斷 -> 判斷variable是否為相同的類型\n",
    "        if isinstance(value, dict):\n",
    "            print(f\"{key}::::\")\n",
    "            for address_key, address_value in value.items():\n",
    "                print(f\"{address_key:>12}::::: {address_value}\")\n",
    "        elif  isinstance(value, list):\n",
    "            print(f\"{key}::\")\n",
    "            for project_data in dict_data['projects']:\n",
    "                for project_key, project_value in project_data.items():\n",
    "                    print(f\"{project_key:>12}::::::: {project_value}\")  \n",
    "        else:\n",
    "            print(f\"{key}::: {value}\")\n",
    "        print(\"-\" * 30)"
   ]
  },
  {
   "cell_type": "code",
   "execution_count": 24,
   "metadata": {},
   "outputs": [
    {
     "name": "stdout",
     "output_type": "stream",
     "text": [
      "name::: Alice\n",
      "------------------------------\n",
      "age::: 30\n",
      "------------------------------\n",
      "address::::\n",
      "      street::::: 123 Main St\n",
      "        city::::: Springfield\n",
      "     zipcode::::: 12345\n",
      "------------------------------\n",
      "projects::\n",
      "        name::::::: Project A\n",
      "      status::::::: completed\n",
      "        name::::::: Project B\n",
      "      status::::::: ongoing\n",
      "------------------------------\n"
     ]
    }
   ],
   "source": [
    "if __name__ == '__main__':\n",
    "    main()"
   ]
  }
 ],
 "metadata": {
  "kernelspec": {
   "display_name": "python311env",
   "language": "python",
   "name": "python3"
  },
  "language_info": {
   "codemirror_mode": {
    "name": "ipython",
    "version": 3
   },
   "file_extension": ".py",
   "mimetype": "text/x-python",
   "name": "python",
   "nbconvert_exporter": "python",
   "pygments_lexer": "ipython3",
   "version": "3.11.8"
  }
 },
 "nbformat": 4,
 "nbformat_minor": 2
}
