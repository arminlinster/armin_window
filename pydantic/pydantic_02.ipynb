{
 "cells": [
  {
   "cell_type": "code",
   "execution_count": 3,
   "metadata": {},
   "outputs": [
    {
     "name": "stdout",
     "output_type": "stream",
     "text": [
      "1 validation error for InventoryItem\n",
      "quantity_on_hand\n",
      "  Input should be a valid integer, unable to parse string as an integer [type=int_parsing, input_value='15.5', input_type=str]\n",
      "    For further information visit https://errors.pydantic.dev/2.7/v/int_parsing\n"
     ]
    }
   ],
   "source": [
    "#unit_price的字串,自動轉換為int失敗,需要手動轉換,raise ValidationError\n",
    "from pydantic import ValidationError\n",
    "from pydantic import BaseModel\n",
    "\n",
    "class InventoryItem(BaseModel):\n",
    "    \"\"\"class for ... \"\"\"\n",
    "    name: str\n",
    "    unit_price: float\n",
    "    quantity_on_hand: int = 0\n",
    "\n",
    "try:\n",
    "    item1 = InventoryItem(name=\"手機套\",unit_price=\"150.5\",quantity_on_hand='15.5')\n",
    "    print(item1)\n",
    "except ValidationError as e:\n",
    "    print(e)"
   ]
  },
  {
   "cell_type": "code",
   "execution_count": 4,
   "metadata": {},
   "outputs": [
    {
     "name": "stdout",
     "output_type": "stream",
     "text": [
      "name='手機套' unit_price=150.5 quantity_on_hand=15\n"
     ]
    }
   ],
   "source": [
    "#unit_price的字串,自動轉換為int\n",
    "from pydantic import ValidationError\n",
    "try:\n",
    "    item1 = InventoryItem(name=\"手機套\",unit_price=\"150.5\",quantity_on_hand='15')\n",
    "    print(item1)\n",
    "except ValidationError as e:\n",
    "    print(e)"
   ]
  }
 ],
 "metadata": {
  "kernelspec": {
   "display_name": "python311env",
   "language": "python",
   "name": "python3"
  },
  "language_info": {
   "codemirror_mode": {
    "name": "ipython",
    "version": 3
   },
   "file_extension": ".py",
   "mimetype": "text/x-python",
   "name": "python",
   "nbconvert_exporter": "python",
   "pygments_lexer": "ipython3",
   "version": "3.11.8"
  }
 },
 "nbformat": 4,
 "nbformat_minor": 2
}
