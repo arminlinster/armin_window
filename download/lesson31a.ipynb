{
 "cells": [
  {
   "cell_type": "code",
   "execution_count": 8,
   "metadata": {},
   "outputs": [
    {
     "name": "stdout",
     "output_type": "stream",
     "text": [
      "我的姓名:妹妹\n",
      "我的age:20\n",
      "\n"
     ]
    }
   ],
   "source": [
    "class Person():\n",
    "    def __init__(self,name:str,age:int):\n",
    "        self.__name = name\n",
    "        self.age = age\n",
    "    def __repr__(self):\n",
    "        message = ''\n",
    "        message += f\"我的姓名:{self.name}\\n\"\n",
    "        message += f\"我的age:{self.age}\\n\"\n",
    "        return message\n",
    "    @property\n",
    "    def name(self)->str:\n",
    "        return self.__name\n",
    "\n",
    "#p1.name =\"XXX\"\n",
    "#p1.age = 20\n",
    "p1:Person = Person(age=25,name=\"妹妹\")\n",
    "p1.age = 20\n",
    "print(p1)"
   ]
  }
 ],
 "metadata": {
  "kernelspec": {
   "display_name": "python311env",
   "language": "python",
   "name": "python3"
  },
  "language_info": {
   "codemirror_mode": {
    "name": "ipython",
    "version": 3
   },
   "file_extension": ".py",
   "mimetype": "text/x-python",
   "name": "python",
   "nbconvert_exporter": "python",
   "pygments_lexer": "ipython3",
   "version": "3.11.8"
  }
 },
 "nbformat": 4,
 "nbformat_minor": 2
}
