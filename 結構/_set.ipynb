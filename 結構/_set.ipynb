{
 "cells": [
  {
   "cell_type": "code",
   "execution_count": 2,
   "metadata": {},
   "outputs": [
    {
     "data": {
      "text/plain": [
       "{1, 2, 3}"
      ]
     },
     "execution_count": 2,
     "metadata": {},
     "output_type": "execute_result"
    }
   ],
   "source": [
    "s1:set = { 1,1,2,2,3,3}\n",
    "s1"
   ]
  },
  {
   "cell_type": "code",
   "execution_count": 7,
   "metadata": {},
   "outputs": [
    {
     "name": "stdout",
     "output_type": "stream",
     "text": [
      "set()\n",
      "<class 'set'>\n"
     ]
    },
    {
     "data": {
      "text/plain": [
       "{1, 2, 3}"
      ]
     },
     "execution_count": 7,
     "metadata": {},
     "output_type": "execute_result"
    }
   ],
   "source": [
    "s2:set = set()\n",
    "print(s2)\n",
    "print(type(s2))\n",
    "s2.add(1)\n",
    "s2.add(2)\n",
    "s2.add(3)\n",
    "s2"
   ]
  },
  {
   "cell_type": "code",
   "execution_count": 10,
   "metadata": {},
   "outputs": [
    {
     "name": "stdout",
     "output_type": "stream",
     "text": [
      "{1, 2, 3, 4, 5}\n",
      "{3}\n"
     ]
    }
   ],
   "source": [
    "s3:set = {1,2,3}\n",
    "s4:set = {3,4,5}\n",
    "u1:set = s3.union(s4)\n",
    "i1:set = s3.intersection(s4)\n",
    "print(u1)\n",
    "print(i1)  "
   ]
  },
  {
   "cell_type": "code",
   "execution_count": 37,
   "metadata": {},
   "outputs": [
    {
     "name": "stdout",
     "output_type": "stream",
     "text": [
      "[49, 46, 37, 33, 29, 26, 23]\n"
     ]
    }
   ],
   "source": [
    "lot:set = set()\n",
    "import random\n",
    "'''\n",
    "for i in range(7):\n",
    "    lot.add(random.randint(1,49))\n",
    "lot\n",
    "'''\n",
    "while len(lot) < 7:\n",
    "    lot.add(random.randint(1,49))\n",
    "lot\n",
    "lot_list:list[int] = list(lot)\n",
    "lot_list.sort(reverse=True)\n",
    "print(lot_list)"
   ]
  }
 ],
 "metadata": {
  "kernelspec": {
   "display_name": "python311env",
   "language": "python",
   "name": "python3"
  },
  "language_info": {
   "codemirror_mode": {
    "name": "ipython",
    "version": 3
   },
   "file_extension": ".py",
   "mimetype": "text/x-python",
   "name": "python",
   "nbconvert_exporter": "python",
   "pygments_lexer": "ipython3",
   "version": "3.11.8"
  }
 },
 "nbformat": 4,
 "nbformat_minor": 2
}
