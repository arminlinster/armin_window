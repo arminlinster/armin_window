{
 "cells": [
  {
   "cell_type": "code",
   "execution_count": 1,
   "metadata": {},
   "outputs": [
    {
     "name": "stdout",
     "output_type": "stream",
     "text": [
      "kitty\n"
     ]
    }
   ],
   "source": [
    "print(\"kitty\")"
   ]
  },
  {
   "cell_type": "code",
   "execution_count": null,
   "metadata": {},
   "outputs": [],
   "source": []
  },
  {
   "cell_type": "code",
   "execution_count": 4,
   "metadata": {},
   "outputs": [],
   "source": [
    "l1 = [2,4,6,8,10]"
   ]
  },
  {
   "cell_type": "code",
   "execution_count": 9,
   "metadata": {},
   "outputs": [
    {
     "name": "stdout",
     "output_type": "stream",
     "text": [
      "2\n",
      "4\n",
      "6\n",
      "8\n",
      "10\n",
      "0 i==tuple==v 2\n",
      "1 i==tuple==v 4\n",
      "2 i==tuple==v 6\n",
      "3 i==tuple==v 8\n",
      "4 i==tuple==v 10\n"
     ]
    }
   ],
   "source": [
    "for item in l1:\n",
    "    print(item)\n",
    "for index,value in enumerate(l1):\n",
    "    print(index , \"i==tuple==v\" , value)"
   ]
  },
  {
   "cell_type": "code",
   "execution_count": 12,
   "metadata": {},
   "outputs": [
    {
     "name": "stdout",
     "output_type": "stream",
     "text": [
      "10\n",
      "[2, 4, 6, 8, 10]\n",
      "Index Error, over the range of list\n"
     ]
    }
   ],
   "source": [
    "print(l1[4])\n",
    "print(l1[:])\n",
    "try:\n",
    "    print(l1[5])\n",
    "except IndexError:\n",
    "    print(\"Index Error, over the range of list\")\n",
    "except Exception as e:\n",
    "    print(\"Unknown error type\", e)"
   ]
  },
  {
   "cell_type": "code",
   "execution_count": 19,
   "metadata": {},
   "outputs": [
    {
     "name": "stdout",
     "output_type": "stream",
     "text": [
      "{'one': 1, 'two': 2, 'three': 3}\n",
      "1\n",
      "<class 'dict'>\n"
     ]
    }
   ],
   "source": [
    "d1 = {\"one\":1,\n",
    "      \"two\":2,\n",
    "      \"three\":3}\n",
    "print(d1)\n",
    "print(d1['one'])\n",
    "len(d1)\n",
    "type(d1)\n",
    "print(type(d1))"
   ]
  },
  {
   "cell_type": "code",
   "execution_count": 36,
   "metadata": {},
   "outputs": [
    {
     "name": "stdout",
     "output_type": "stream",
     "text": [
      "key = one\n",
      "value =  1\n",
      "key = two\n",
      "value =  2\n",
      "key = three\n",
      "value =  3\n",
      "['one', 'two', 'three']\n",
      "<built-in method keys of dict object at 0x000001BAA47F9FC0>\n"
     ]
    }
   ],
   "source": [
    "#整合 for in loop\n",
    "for key in d1:\n",
    "    print(f'key = {key}')\n",
    "    print('value = ' , d1[key] )\n",
    "print(list(d1))\n",
    "#print(d1.keys)"
   ]
  },
  {
   "cell_type": "code",
   "execution_count": 40,
   "metadata": {},
   "outputs": [
    {
     "name": "stdout",
     "output_type": "stream",
     "text": [
      "one\n",
      "two\n",
      "three\n",
      "1\n",
      "2\n",
      "3\n",
      "one 1\n",
      "two 2\n",
      "three 3\n",
      "----\n"
     ]
    }
   ],
   "source": [
    "for key in d1.keys():\n",
    "    print(key)\n",
    "for value in d1.values():\n",
    "    print(value)\n",
    "for key,value in d1.items():\n",
    "    print(key,value)\n",
    "print(\"----\")\n"
   ]
  }
 ],
 "metadata": {
  "kernelspec": {
   "display_name": "venv1",
   "language": "python",
   "name": "python3"
  },
  "language_info": {
   "codemirror_mode": {
    "name": "ipython",
    "version": 3
   },
   "file_extension": ".py",
   "mimetype": "text/x-python",
   "name": "python",
   "nbconvert_exporter": "python",
   "pygments_lexer": "ipython3",
   "version": "3.11.8"
  }
 },
 "nbformat": 4,
 "nbformat_minor": 2
}
